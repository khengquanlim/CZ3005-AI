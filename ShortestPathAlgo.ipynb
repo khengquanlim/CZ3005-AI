{
 "cells": [
  {
   "cell_type": "code",
   "execution_count": 16,
   "id": "56c79cdf",
   "metadata": {},
   "outputs": [
    {
     "name": "stdout",
     "output_type": "stream",
     "text": [
      "Shortest path =  1 1363 1358 1355 1274 1143 1264 1239 1237 1229 1228 1227 941 936 935 923 930 919 927 925 924 906 901 755 677 663 660 659 366 365 364 349 347 345 342 320 343 297 294 295 196 202 181 4503 4502 4739 4735 4733 4730 4725 4724 4723 4701 4699 4639 4638 4640 4617 4481 4482 4480 4467 4464 4455 4454 4409 4410 259688 259655 259654 259648 259642 259646 259645 259587 259588 259573 259117 259118 259095 259107 259101 259102 259061 259063 259071 259067 259068 259009 259010 258906 258769 258770 262032 258768 258731 258728 258727 258726 258710 258708 258705 258707 257893 257894 262683 257891 262692 262695 262694 257889 257872 257870 257869 257868 257860 257859 238942 238924 238923 264063 261168 238912 238906 238903 238902 238901 238892 238894 238891 238493 238485 238430 238467 238461 238459 238460 238458 238373 238366 238349 238341 238340 238339 238334 263116 238338 237305 237299 237298 237293 237290 237287 236715 236713 236681 236682 236679 236653 236650 254900 261984 236592 236593 261486 236589 236518 236511 236507 236490 236491 244844 236359 236357 236367 236366 236353 236365 236363 236338 263550 236339 236330 263548 263549 263831 263821 236328 236315 236314 236308 236313 236042 236035 236029 236024 236008 236009 264346\n",
      "1 1363 1358 1355 1274 1143 1264 1239 1237 1229 1228 1227 941 936 935 923 930 919 927 925 924 906 901 755 677 663 660 659 366 365 364 349 347 345 342 320 343 297 294 295 196 202 181 4503 4502 4739 4735 4733 4730 4725 4724 4723 4701 4699 4639 4638 4640 4617 4481 4482 4480 4467 4464 4455 4454 4409 4410 259688 259655 259654 259648 259642 259646 259645 259587 259588 259573 259117 259118 259095 259107 259101 259102 259061 259063 259071 259067 259068 259009 259010 258906 258769 258770 262032 258768 258731 258728 258727 258726 258710 258708 258705 258707 257893 257894 262683 257891 262692 262695 262694 257889 257872 257870 257869 257868 257860 257859 238942 238924 238923 264063 261168 238912 238906 238903 238902 238901 238892 238894 238891 238493 238485 238430 238467 238461 238459 238460 238458 238373 238366 238349 238341 238340 238339 238334 263116 238338 237305 237299 237298 237293 237290 237287 236715 236713 236681 236682 236679 236653 236650 254900 261984 236592 236593 261486 236589 236518 236511 236507 236490 236491 244844 236359 236357 236367 236366 236353 236365 236363 236338 263550 236339 236330 263548 263549 263831 263821 236328 236315 236314 236308 236313 236042 236035 236029 236024 236008 236009 264346\n"
     ]
    }
   ],
   "source": [
    "import json\n",
    "# Python implementation to find the\n",
    "# shortest path in the graph using\n",
    "# dictionaries\n",
    " \n",
    "# Function to find the shortest\n",
    "# path between two nodes of a graph\n",
    "def BFS_SP(graph, start, goal):\n",
    "    explored = []\n",
    "     \n",
    "    # Queue for traversing the\n",
    "    # graph in the BFS\n",
    "    queue = [[start]]\n",
    "     \n",
    "    # If the desired node is\n",
    "    # reached\n",
    "    if start == goal:\n",
    "        print(\"Same Node\")\n",
    "        return\n",
    "     \n",
    "    # Loop to traverse the graph\n",
    "    # with the help of the queue\n",
    "    while queue:\n",
    "        path = queue.pop(0)\n",
    "        node = path[-1]\n",
    "         \n",
    "        # Condition to check if the\n",
    "        # current node is not visited\n",
    "        if node not in explored:\n",
    "            neighbours = graph[node]\n",
    "             \n",
    "            # Loop to iterate over the\n",
    "            # neighbours of the node\n",
    "            for neighbour in neighbours:\n",
    "                new_path = list(path)\n",
    "                new_path.append(neighbour)\n",
    "                queue.append(new_path)\n",
    "                 \n",
    "                # Condition to check if the\n",
    "                # neighbour node is the goal\n",
    "                if neighbour == goal:\n",
    "                    print(\"Shortest path = \", *new_path)\n",
    "                    print(*new_path)\n",
    "                    return\n",
    "            explored.append(node)\n",
    " \n",
    "    # Condition when the nodes\n",
    "    # are not connected\n",
    "    print(\"So sorry, but a connecting\"\\\n",
    "                \"path doesn't exist :(\")\n",
    "    return\n",
    "\n",
    "with open('G.json') as json_file:\n",
    "    data = json.load(json_file)\n",
    "# Driver Code\n",
    "if __name__ == \"__main__\":\n",
    "     \n",
    "    # Graph using dictionaries\n",
    "    graph = data\n",
    "     \n",
    "    # Function Call\n",
    "    BFS_SP(graph, '1', '264346')"
   ]
  },
  {
   "cell_type": "code",
   "execution_count": null,
   "id": "4af80871",
   "metadata": {},
   "outputs": [],
   "source": []
  }
 ],
 "metadata": {
  "kernelspec": {
   "display_name": "Python 3",
   "language": "python",
   "name": "python3"
  },
  "language_info": {
   "codemirror_mode": {
    "name": "ipython",
    "version": 3
   },
   "file_extension": ".py",
   "mimetype": "text/x-python",
   "name": "python",
   "nbconvert_exporter": "python",
   "pygments_lexer": "ipython3",
   "version": "3.8.8"
  }
 },
 "nbformat": 4,
 "nbformat_minor": 5
}
