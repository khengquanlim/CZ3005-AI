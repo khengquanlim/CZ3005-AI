{
 "cells": [
  {
   "cell_type": "code",
   "execution_count": null,
   "id": "58de17cb",
   "metadata": {},
   "outputs": [],
   "source": [
    "import networkx as nx\n",
    "import matplotlib.pyplot as plt\n",
    "import json\n",
    "\n",
    "def show_weighted_graph(networkx_graph, node_size, font_size, fig_size):\n",
    "  # Allocate the given fig_size in order to have space for each node\n",
    "  plt.figure(num=None, figsize=fig_size, dpi=80)\n",
    "  plt.axis('off')\n",
    "  # Compute the position of each vertex in order to display it nicely\n",
    "  nodes_position = nx.spring_layout(networkx_graph) \n",
    "  # You can change the different layouts depending on your graph\n",
    "  # Extract the weights corresponding to each edge in the graph\n",
    "  edges_weights  = nx.get_edge_attributes(networkx_graph,'weight')\n",
    "  # Draw the nodes (you can change the color)\n",
    "  nx.draw_networkx_nodes(networkx_graph, nodes_position, node_size=node_size,  \n",
    "                         node_color = [\"orange\"]*networkx_graph.number_of_nodes())\n",
    "  # Draw only the edges\n",
    "  nx.draw_networkx_edges(networkx_graph, nodes_position, edgelist=list(networkx_graph.edges), width=2)\n",
    "  # Add the weights\n",
    "  nx.draw_networkx_edge_labels(networkx_graph, nodes_position, edge_labels = edges_weights)\n",
    "  # Add the labels of the nodes\n",
    "  nx.draw_networkx_labels(networkx_graph, nodes_position, font_size=font_size, \n",
    "                          font_family='sans-serif')\n",
    "  plt.axis('off')\n",
    "  plt.show()\n",
    "\n",
    "\n",
    "def load_graph_from_file(filename):\n",
    "\twith open(filename) as nyc_instances:\n",
    "\t\tdict_nyc = json.load(nyc_instances)\n",
    "\t\treturn nx.Graph(dict_nyc)"
   ]
  }
 ],
 "metadata": {
  "kernelspec": {
   "display_name": "Python 3",
   "language": "python",
   "name": "python3"
  },
  "language_info": {
   "codemirror_mode": {
    "name": "ipython",
    "version": 3
   },
   "file_extension": ".py",
   "mimetype": "text/x-python",
   "name": "python",
   "nbconvert_exporter": "python",
   "pygments_lexer": "ipython3",
   "version": "3.8.8"
  }
 },
 "nbformat": 4,
 "nbformat_minor": 5
}
