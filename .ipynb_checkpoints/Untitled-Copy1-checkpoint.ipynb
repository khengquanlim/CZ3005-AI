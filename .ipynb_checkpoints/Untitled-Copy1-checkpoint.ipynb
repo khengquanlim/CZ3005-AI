{
 "cells": [
  {
   "cell_type": "code",
   "execution_count": 30,
   "id": "6804ba7b",
   "metadata": {},
   "outputs": [],
   "source": [
    "import json,re,random\n",
    "import matplotlib.pyplot as plt\n"
   ]
  },
  {
   "cell_type": "code",
   "execution_count": null,
   "id": "48241965",
   "metadata": {},
   "outputs": [],
   "source": [
    "print(dataframe)"
   ]
  },
  {
   "cell_type": "code",
   "execution_count": 45,
   "id": "9a2aaa45",
   "metadata": {},
   "outputs": [
    {
     "name": "stdout",
     "output_type": "stream",
     "text": [
      "Processed 1 lines of data\n",
      "[\n",
      "    \"{\\\"1\\\": [\\\"1363\\\", \\\"12\\\", \\\"2\\\"], \\\"2\\\": [\\\"13\\\", \\\"1\\\", \\\"48\\\"], \\\"3\\\": [\\\"4\\\", \\\"3874\\\"], \\\"4\\\": [\\\"3926\\\", \\\"3\\\", \\\"3937\\\"], \\\"5\\\": [\\\"6\\\", \\\"1204\\\", \\\"1214\\\", \\\"1219\\\"], \\\"6\\\": [\\\"5\\\"], \\\"7\\\": [\\\"1147\\\", \\\"8\\\", \\\"1148\\\"], \\\"8\\\": [\\\"7\\\"], \\\"9\\\": [\\\"11\\\", \\\"603\\\", \\\"10\\\"], \\\"10\\\": [\\\"6444\\\", \\\"9\\\", \\\"1197\\\"], \\\"11\\\": [\\\"9\\\"], \\\"12\\\": [\\\"1\\\"], \\\"13\\\": [\\\"2\\\"], \\\"14\\\": [\\\"237\\\", \\\"251\\\", \\\"15\\\"], \\\"15\\\": [\\\"14\\\"], \\\"16\\\": [\\\"4151\\\", \\\"17\\\"], \\\"17\\\": [\\\"16\\\", \\\"4446\\\"], \\\"18\\\": [\\\"19\\\", \\\"4266\\\", \\\"6362\\\"], \\\"19\\\": [\\\"18\\\"], \\\"20\\\": [\\\"4321\\\", \\\"21\\\", \\\"22\\\"]}\"\n",
      "]\n"
     ]
    }
   ],
   "source": [
    "sample_file = './G20.json'\n",
    "\n",
    "\n",
    "# Clean data\n",
    "def clean_text(sum_string):\n",
    "    s = re.sub('[\\r\\n\\s]+',' ',sum_string) #clean whitespce and newline\n",
    "    return s\n",
    "\n",
    "#data importing and formating\n",
    "def process_raw_data(data_in_weird_format_file):\n",
    "    with open(data_in_weird_format_file,'r') as f:\n",
    "        raw_data = f.read()\n",
    "    data = raw_data.split('}/n')\n",
    "    return data\n",
    "data = process_raw_data(sample_file)\n",
    "print(f'Processed {len(data)} lines of data')\n",
    "\n",
    "_sample_data = json.loads(random.choice(data))\n",
    "#print(f'Processed {len(_sample_data)} lines of data')\n",
    "#print('\\n\\nSample data')\n",
    "print(json.dumps(data, indent=4, sort_keys=True))\n"
   ]
  },
  {
   "cell_type": "code",
   "execution_count": null,
   "id": "f3fab401",
   "metadata": {},
   "outputs": [],
   "source": [
    "len(_sample_data)"
   ]
  },
  {
   "cell_type": "code",
   "execution_count": 15,
   "id": "a4957a4c",
   "metadata": {},
   "outputs": [
    {
     "ename": "TypeError",
     "evalue": "the JSON object must be str, bytes or bytearray, not list",
     "output_type": "error",
     "traceback": [
      "\u001b[1;31m---------------------------------------------------------------------------\u001b[0m",
      "\u001b[1;31mTypeError\u001b[0m                                 Traceback (most recent call last)",
      "\u001b[1;32m<ipython-input-15-021bdef2fb01>\u001b[0m in \u001b[0;36m<module>\u001b[1;34m\u001b[0m\n\u001b[1;32m----> 1\u001b[1;33m \u001b[0m_sample_data\u001b[0m \u001b[1;33m=\u001b[0m \u001b[0mjson\u001b[0m\u001b[1;33m.\u001b[0m\u001b[0mloads\u001b[0m\u001b[1;33m(\u001b[0m\u001b[0mfirst_two\u001b[0m\u001b[1;33m)\u001b[0m\u001b[1;33m\u001b[0m\u001b[1;33m\u001b[0m\u001b[0m\n\u001b[0m\u001b[0;32m      2\u001b[0m \u001b[0mdict_items\u001b[0m \u001b[1;33m=\u001b[0m \u001b[0m_sample_data\u001b[0m\u001b[1;33m.\u001b[0m\u001b[0mitems\u001b[0m\u001b[1;33m(\u001b[0m\u001b[1;33m)\u001b[0m\u001b[1;33m\u001b[0m\u001b[1;33m\u001b[0m\u001b[0m\n\u001b[0;32m      3\u001b[0m \u001b[0mfirst_two\u001b[0m \u001b[1;33m=\u001b[0m \u001b[0mlist\u001b[0m\u001b[1;33m(\u001b[0m\u001b[0mdict_items\u001b[0m\u001b[1;33m)\u001b[0m\u001b[1;33m[\u001b[0m\u001b[1;33m:\u001b[0m\u001b[1;36m2\u001b[0m\u001b[1;33m]\u001b[0m\u001b[1;33m\u001b[0m\u001b[1;33m\u001b[0m\u001b[0m\n\u001b[0;32m      4\u001b[0m \u001b[0mprint\u001b[0m\u001b[1;33m(\u001b[0m\u001b[0mfirst_two\u001b[0m\u001b[1;33m)\u001b[0m\u001b[1;33m\u001b[0m\u001b[1;33m\u001b[0m\u001b[0m\n",
      "\u001b[1;32mD:\\Anaconda\\lib\\json\\__init__.py\u001b[0m in \u001b[0;36mloads\u001b[1;34m(s, cls, object_hook, parse_float, parse_int, parse_constant, object_pairs_hook, **kw)\u001b[0m\n\u001b[0;32m    339\u001b[0m     \u001b[1;32melse\u001b[0m\u001b[1;33m:\u001b[0m\u001b[1;33m\u001b[0m\u001b[1;33m\u001b[0m\u001b[0m\n\u001b[0;32m    340\u001b[0m         \u001b[1;32mif\u001b[0m \u001b[1;32mnot\u001b[0m \u001b[0misinstance\u001b[0m\u001b[1;33m(\u001b[0m\u001b[0ms\u001b[0m\u001b[1;33m,\u001b[0m \u001b[1;33m(\u001b[0m\u001b[0mbytes\u001b[0m\u001b[1;33m,\u001b[0m \u001b[0mbytearray\u001b[0m\u001b[1;33m)\u001b[0m\u001b[1;33m)\u001b[0m\u001b[1;33m:\u001b[0m\u001b[1;33m\u001b[0m\u001b[1;33m\u001b[0m\u001b[0m\n\u001b[1;32m--> 341\u001b[1;33m             raise TypeError(f'the JSON object must be str, bytes or bytearray, '\n\u001b[0m\u001b[0;32m    342\u001b[0m                             f'not {s.__class__.__name__}')\n\u001b[0;32m    343\u001b[0m         \u001b[0ms\u001b[0m \u001b[1;33m=\u001b[0m \u001b[0ms\u001b[0m\u001b[1;33m.\u001b[0m\u001b[0mdecode\u001b[0m\u001b[1;33m(\u001b[0m\u001b[0mdetect_encoding\u001b[0m\u001b[1;33m(\u001b[0m\u001b[0ms\u001b[0m\u001b[1;33m)\u001b[0m\u001b[1;33m,\u001b[0m \u001b[1;34m'surrogatepass'\u001b[0m\u001b[1;33m)\u001b[0m\u001b[1;33m\u001b[0m\u001b[1;33m\u001b[0m\u001b[0m\n",
      "\u001b[1;31mTypeError\u001b[0m: the JSON object must be str, bytes or bytearray, not list"
     ]
    }
   ],
   "source": [
    "_sample_data = json.loads(first_two)\n",
    "dict_items = _sample_data.items()\n",
    "first_two = list(dict_items)[:2]\n",
    "print(first_two)"
   ]
  },
  {
   "cell_type": "code",
   "execution_count": null,
   "id": "c6be731a",
   "metadata": {},
   "outputs": [],
   "source": [
    "print(_sample_data)"
   ]
  }
 ],
 "metadata": {
  "kernelspec": {
   "display_name": "Python 3",
   "language": "python",
   "name": "python3"
  },
  "language_info": {
   "codemirror_mode": {
    "name": "ipython",
    "version": 3
   },
   "file_extension": ".py",
   "mimetype": "text/x-python",
   "name": "python",
   "nbconvert_exporter": "python",
   "pygments_lexer": "ipython3",
   "version": "3.8.8"
  }
 },
 "nbformat": 4,
 "nbformat_minor": 5
}
