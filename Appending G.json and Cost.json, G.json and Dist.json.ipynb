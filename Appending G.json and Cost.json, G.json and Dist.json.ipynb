{
 "cells": [
  {
   "cell_type": "markdown",
   "id": "e33dc71c",
   "metadata": {},
   "source": [
    "## G.json and Cost.json"
   ]
  },
  {
   "cell_type": "code",
   "execution_count": null,
   "id": "b0de4203",
   "metadata": {},
   "outputs": [],
   "source": [
    "import json\n",
    "with open(\"files/Cost.json\", 'r') as f:\n",
    "   costs = json.load(f)\n",
    "\n",
    "with open(\"files/G.json\", 'r') as f:\n",
    "   Gs = json.load(f)\n",
    "costKeys = list(costs.keys())\n",
    "\n",
    "grandList = {}\n",
    "print(\"Processing data, it will some time depending on the size of files\")\n",
    "count = 0\n",
    "for keyG in Gs:\n",
    "   keyList = Gs.get(keyG)\n",
    "   tempDictt = {}\n",
    "   for key in keyList:\n",
    "      found = False\n",
    "      for costKey in costKeys:\n",
    "         costKeySplitted = costKey.split(\",\")\n",
    "         for costKeyS in costKeySplitted:\n",
    "            if key == costKeyS:\n",
    "               cost = costs.get(costKey)\n",
    "               tempDictt[key] = {\"Cost\" : cost}\n",
    "               found = True\n",
    "         if found:\n",
    "            break\n",
    "      count += 1\n",
    "   grandList[keyG] = tempDictt\n",
    "   print(\"Processing: \", tempDictt)\n",
    "print(\"File processed\")\n",
    "with open('GrandCost.json', 'w') as f:\n",
    "   json.dump(grandList, f, indent=4, sort_keys=False)\n",
    "print(\"File saved as GrandCost.json\")"
   ]
  },
  {
   "cell_type": "markdown",
   "id": "35843383",
   "metadata": {},
   "source": [
    "## G.json and Dist.json"
   ]
  },
  {
   "cell_type": "code",
   "execution_count": null,
   "id": "7873abff",
   "metadata": {},
   "outputs": [],
   "source": [
    "import json\n",
    "with open(\"files/Dist.json\", 'r') as f:\n",
    "   costs = json.load(f)\n",
    "\n",
    "with open(\"files/G.json\", 'r') as f:\n",
    "   Gs = json.load(f)\n",
    "costKeys = list(costs.keys())\n",
    "count = 0\n",
    "grandList = {}\n",
    "print(\"Processing data, it will some time depending on the size of files\")\n",
    "for keyG in Gs:\n",
    "   keyList = Gs.get(keyG)\n",
    "   tempDictt = {}\n",
    "   for key in keyList:\n",
    "      found = False\n",
    "      for costKey in costKeys:\n",
    "         costKeySplitted = costKey.split(\",\")\n",
    "         for costKeyS in costKeySplitted:\n",
    "            if key == costKeyS:\n",
    "               cost = costs.get(costKey)\n",
    "               tempDictt[key] = {\"Dist\" : cost}\n",
    "               found = True\n",
    "         if found:\n",
    "            break\n",
    "      count += 1\n",
    "   grandList[keyG] = tempDictt\n",
    "   print(\"Processing: \", tempDictt)\n",
    "print(\"File processed\")\n",
    "with open('GrandDist.json', 'w') as f:\n",
    "   json.dump(grandList, f, indent=4, sort_keys=False)\n",
    "\n",
    "print(\"File saved as GrandDist.json\")"
   ]
  }
 ],
 "metadata": {
  "kernelspec": {
   "display_name": "Python 3",
   "language": "python",
   "name": "python3"
  },
  "language_info": {
   "codemirror_mode": {
    "name": "ipython",
    "version": 3
   },
   "file_extension": ".py",
   "mimetype": "text/x-python",
   "name": "python",
   "nbconvert_exporter": "python",
   "pygments_lexer": "ipython3",
   "version": "3.8.8"
  }
 },
 "nbformat": 4,
 "nbformat_minor": 5
}
